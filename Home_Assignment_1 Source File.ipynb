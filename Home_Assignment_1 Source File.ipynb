{
  "nbformat": 4,
  "nbformat_minor": 0,
  "metadata": {
    "colab": {
      "provenance": []
    },
    "kernelspec": {
      "name": "python3",
      "display_name": "Python 3"
    },
    "language_info": {
      "name": "python"
    }
  },
  "cells": [
    {
      "cell_type": "markdown",
      "source": [
        "1.\tTensor Manipulations & Reshaping"
      ],
      "metadata": {
        "id": "Joz9IKtnEqTS"
      }
    },
    {
      "cell_type": "code",
      "execution_count": 1,
      "metadata": {
        "colab": {
          "base_uri": "https://localhost:8080/"
        },
        "id": "QS_lHwPoAYHp",
        "outputId": "aba793a7-6f1c-44ec-9d4f-4583dd9cbf78"
      },
      "outputs": [
        {
          "output_type": "stream",
          "name": "stdout",
          "text": [
            "Original Tensor:\n",
            " tf.Tensor(\n",
            "[[0.73162234 0.8522334  0.850057   0.4191712  0.18213654 0.50087583]\n",
            " [0.5921682  0.2651719  0.9678438  0.0599798  0.19608998 0.1441698 ]\n",
            " [0.93914163 0.46975577 0.53217435 0.86438835 0.9343692  0.26263022]\n",
            " [0.71602464 0.769529   0.24442673 0.28921914 0.08122349 0.5612719 ]], shape=(4, 6), dtype=float32)\n",
            "\n",
            "Rank: 2\n",
            "Shape: [4 6]\n",
            "\n",
            "Reshaped Tensor Shape: (2, 3, 4)\n",
            "Transposed Tensor Shape: (3, 2, 4)\n",
            "\n",
            "Broadcasted Addition Shape: (3, 2, 4)\n"
          ]
        }
      ],
      "source": [
        "import tensorflow as tf\n",
        "\n",
        "# 1. Create a random tensor of shape (4, 6)\n",
        "tensor = tf.random.uniform(shape=(4, 6))\n",
        "print(\"Original Tensor:\\n\", tensor)\n",
        "\n",
        "# 2. Find its rank and shape\n",
        "rank = tf.rank(tensor)\n",
        "shape = tf.shape(tensor)\n",
        "print(\"\\nRank:\", rank.numpy())\n",
        "print(\"Shape:\", shape.numpy())\n",
        "\n",
        "# 3. Reshape to (2, 3, 4) and transpose to (3, 2, 4)\n",
        "reshaped_tensor = tf.reshape(tensor, (2, 3, 4))\n",
        "transposed_tensor = tf.transpose(reshaped_tensor, perm=[1, 0, 2])\n",
        "print(\"\\nReshaped Tensor Shape:\", reshaped_tensor.shape)\n",
        "print(\"Transposed Tensor Shape:\", transposed_tensor.shape)\n",
        "\n",
        "# 4. Broadcast a smaller tensor (1, 4) and add\n",
        "small_tensor = tf.random.uniform(shape=(1, 4))\n",
        "# Broadcasting will automatically match dimensions\n",
        "# Let's expand dims of the smaller tensor to align (3, 2, 4)\n",
        "broadcasted_addition = transposed_tensor + small_tensor\n",
        "print(\"\\nBroadcasted Addition Shape:\", broadcasted_addition.shape)"
      ]
    },
    {
      "cell_type": "markdown",
      "source": [
        "2.\tLoss Functions & Hyperparameter Tuning"
      ],
      "metadata": {
        "id": "QDTdLQLfEoTz"
      }
    },
    {
      "cell_type": "code",
      "source": [
        "import tensorflow as tf\n",
        "import matplotlib.pyplot as plt\n",
        "import numpy as np\n",
        "\n",
        "# 1. Define true labels and predictions\n",
        "y_true = tf.constant([[0, 1, 0]], dtype=tf.float32)  # One-hot true class = class 1\n",
        "y_pred1 = tf.constant([[0.1, 0.8, 0.1]], dtype=tf.float32)  # Good prediction\n",
        "y_pred2 = tf.constant([[0.3, 0.4, 0.3]], dtype=tf.float32)  # Less confident prediction\n",
        "\n",
        "# 2. Compute losses\n",
        "mse1 = tf.keras.losses.MeanSquaredError()(y_true, y_pred1).numpy()\n",
        "mse2 = tf.keras.losses.MeanSquaredError()(y_true, y_pred2).numpy()\n",
        "\n",
        "cce = tf.keras.losses.CategoricalCrossentropy()\n",
        "cce1 = cce(y_true, y_pred1).numpy()\n",
        "cce2 = cce(y_true, y_pred2).numpy()\n",
        "\n",
        "# 3. Print loss values\n",
        "print(f\"MSE (Good Prediction): {mse1:.4f}\")\n",
        "print(f\"MSE (Less Confident Prediction): {mse2:.4f}\")\n",
        "print(f\"CCE (Good Prediction): {cce1:.4f}\")\n",
        "print(f\"CCE (Less Confident Prediction): {cce2:.4f}\")\n",
        "\n",
        "# 4. Plot comparison as bar chart\n",
        "labels = ['MSE1', 'MSE2', 'CCE1', 'CCE2']\n",
        "loss_values = [mse1, mse2, cce1, cce2]\n",
        "\n",
        "plt.bar(labels, loss_values)\n",
        "plt.title('Loss Comparison: MSE vs CCE')\n",
        "plt.ylabel('Loss Value')\n",
        "plt.show()\n"
      ],
      "metadata": {
        "colab": {
          "base_uri": "https://localhost:8080/",
          "height": 521
        },
        "id": "InzOO73HAv01",
        "outputId": "ccf5e1d2-30a1-45f0-e4e1-fe939c2a460b"
      },
      "execution_count": 2,
      "outputs": [
        {
          "output_type": "stream",
          "name": "stdout",
          "text": [
            "MSE (Good Prediction): 0.0200\n",
            "MSE (Less Confident Prediction): 0.1800\n",
            "CCE (Good Prediction): 0.2231\n",
            "CCE (Less Confident Prediction): 0.9163\n"
          ]
        },
        {
          "output_type": "display_data",
          "data": {
            "text/plain": [
              "<Figure size 640x480 with 1 Axes>"
            ],
            "image/png": "[encoded data removed]"
          },
          "metadata": {}
        }
      ]
    },
    {
      "cell_type": "markdown",
      "source": [
        "3.\tTrain a Neural Network and Log to TensorBoard"
      ],
      "metadata": {
        "id": "M6Q-2VQJEjsL"
      }
    },
    {
      "cell_type": "code",
      "source": [
        "import tensorflow as tf\n",
        "from tensorflow.keras import layers, models\n",
        "import datetime\n",
        "\n",
        "# 1. Load and preprocess MNIST dataset\n",
        "(x_train, y_train), (x_test, y_test) = tf.keras.datasets.mnist.load_data()\n",
        "x_train, x_test = x_train / 255.0, x_test / 255.0  # Normalize\n",
        "x_train = x_train[..., tf.newaxis]\n",
        "x_test = x_test[..., tf.newaxis]\n",
        "\n",
        "# 2. Build a simple neural network model\n",
        "model = models.Sequential([\n",
        "    layers.Flatten(input_shape=(28, 28, 1)),\n",
        "    layers.Dense(128, activation='relu'),\n",
        "    layers.Dense(10, activation='softmax')\n",
        "])\n",
        "\n",
        "model.compile(optimizer='adam',\n",
        "              loss='sparse_categorical_crossentropy',\n",
        "              metrics=['accuracy'])\n",
        "\n",
        "# Set up TensorBoard callback\n",
        "log_dir = \"logs/fit/\" + datetime.datetime.now().strftime(\"%Y%m%d-%H%M%S\")\n",
        "tensorboard_cb = tf.keras.callbacks.TensorBoard(log_dir=log_dir, histogram_freq=1)\n",
        "\n",
        "# Train the model with logging enabled\n",
        "model.fit(x_train, y_train,\n",
        "          validation_data=(x_test, y_test),\n",
        "          epochs=5,\n",
        "          callbacks=[tensorboard_cb])"
      ],
      "metadata": {
        "colab": {
          "base_uri": "https://localhost:8080/"
        },
        "id": "2wwRSmmmBD-E",
        "outputId": "17c43074-8cb0-4957-f524-d21fa054cb09"
      },
      "execution_count": 4,
      "outputs": [
        {
          "output_type": "stream",
          "name": "stdout",
          "text": [
            "Downloading data from https://storage.googleapis.com/tensorflow/tf-keras-datasets/mnist.npz\n",
            "\u001b[1m11490434/11490434\u001b[0m \u001b[32m━━━━━━━━━━━━━━━━━━━━\u001b[0m\u001b[37m\u001b[0m \u001b[1m0s\u001b[0m 0us/step\n"
          ]
        },
        {
          "output_type": "stream",
          "name": "stderr",
          "text": [
            "/usr/local/lib/python3.11/dist-packages/keras/src/layers/reshaping/flatten.py:37: UserWarning: Do not pass an `input_shape`/`input_dim` argument to a layer. When using Sequential models, prefer using an `Input(shape)` object as the first layer in the model instead.\n",
            "  super().__init__(**kwargs)\n"
          ]
        },
        {
          "output_type": "stream",
          "name": "stdout",
          "text": [
            "Epoch 1/5\n",
            "\u001b[1m1875/1875\u001b[0m \u001b[32m━━━━━━━━━━━━━━━━━━━━\u001b[0m\u001b[37m\u001b[0m \u001b[1m10s\u001b[0m 4ms/step - accuracy: 0.8766 - loss: 0.4283 - val_accuracy: 0.9591 - val_loss: 0.1338\n",
            "Epoch 2/5\n",
            "\u001b[1m1875/1875\u001b[0m \u001b[32m━━━━━━━━━━━━━━━━━━━━\u001b[0m\u001b[37m\u001b[0m \u001b[1m10s\u001b[0m 5ms/step - accuracy: 0.9643 - loss: 0.1234 - val_accuracy: 0.9714 - val_loss: 0.0950\n",
            "Epoch 3/5\n",
            "\u001b[1m1875/1875\u001b[0m \u001b[32m━━━━━━━━━━━━━━━━━━━━\u001b[0m\u001b[37m\u001b[0m \u001b[1m10s\u001b[0m 5ms/step - accuracy: 0.9762 - loss: 0.0777 - val_accuracy: 0.9707 - val_loss: 0.0905\n",
            "Epoch 4/5\n",
            "\u001b[1m1875/1875\u001b[0m \u001b[32m━━━━━━━━━━━━━━━━━━━━\u001b[0m\u001b[37m\u001b[0m \u001b[1m8s\u001b[0m 4ms/step - accuracy: 0.9830 - loss: 0.0574 - val_accuracy: 0.9751 - val_loss: 0.0807\n",
            "Epoch 5/5\n",
            "\u001b[1m1875/1875\u001b[0m \u001b[32m━━━━━━━━━━━━━━━━━━━━\u001b[0m\u001b[37m\u001b[0m \u001b[1m9s\u001b[0m 5ms/step - accuracy: 0.9874 - loss: 0.0413 - val_accuracy: 0.9766 - val_loss: 0.0739\n"
          ]
        },
        {
          "output_type": "execute_result",
          "data": {
            "text/plain": [
              "<keras.src.callbacks.history.History at 0x7928e35f6050>"
            ]
          },
          "metadata": {},
          "execution_count": 4
        }
      ]
    }
  ]
}